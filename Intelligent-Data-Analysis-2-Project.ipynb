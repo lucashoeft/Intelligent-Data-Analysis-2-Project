{
 "cells": [
  {
   "cell_type": "code",
   "execution_count": 3,
   "id": "a255e31b",
   "metadata": {},
   "outputs": [],
   "source": [
    "import pandas as pd\n",
    "import numpy as np\n",
    "import seaborn as sns\n",
    "from matplotlib import pyplot as plt\n",
    "\n",
    "%matplotlib inline\n",
    "\n",
    "# Hide Warnings\n",
    "pd.options.mode.chained_assignment = None"
   ]
  },
  {
   "cell_type": "markdown",
   "id": "d354d791",
   "metadata": {},
   "source": [
    "# Intelligent-Data-Analysis-Project"
   ]
  },
  {
   "cell_type": "markdown",
   "id": "e7d280b1",
   "metadata": {},
   "source": [
    "by Lucas Hoeft"
   ]
  },
  {
   "cell_type": "code",
   "execution_count": null,
   "id": "ff35678b",
   "metadata": {},
   "outputs": [],
   "source": [
    "income = pd.read_csv('data/einkommen.train', sep=\",\", na_values = \" ?\", header=None)"
   ]
  }
 ],
 "metadata": {
  "kernelspec": {
   "display_name": "Python 3 (ipykernel)",
   "language": "python",
   "name": "python3"
  },
  "language_info": {
   "codemirror_mode": {
    "name": "ipython",
    "version": 3
   },
   "file_extension": ".py",
   "mimetype": "text/x-python",
   "name": "python",
   "nbconvert_exporter": "python",
   "pygments_lexer": "ipython3",
   "version": "3.10.4"
  },
  "toc": {
   "base_numbering": 1,
   "nav_menu": {},
   "number_sections": true,
   "sideBar": true,
   "skip_h1_title": false,
   "title_cell": "Table of Contents",
   "title_sidebar": "Contents",
   "toc_cell": false,
   "toc_position": {},
   "toc_section_display": true,
   "toc_window_display": false
  }
 },
 "nbformat": 4,
 "nbformat_minor": 5
}
